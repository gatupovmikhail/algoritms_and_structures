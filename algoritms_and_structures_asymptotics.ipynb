{
 "cells": [
  {
   "cell_type": "code",
   "execution_count": null,
   "metadata": {},
   "outputs": [],
   "source": [
    "# 0.1 points\n",
    "for i in range (n): # O(n)\n",
    "    for j in range (n): # O(n)\n",
    "        something() #O(1)\n"
   ]
  },
  {
   "cell_type": "markdown",
   "metadata": {},
   "source": [
    "$O(n) \\cdot O(n) \\cdot O(1) = O(1\\cdot n \\cdot n) = O(n^2)$"
   ]
  },
  {
   "cell_type": "code",
   "execution_count": 5,
   "metadata": {},
   "outputs": [],
   "source": [
    "#0.2 points\n",
    "def a(n): # O(n)\n",
    "    if n == 0: return 1 # O(1)\n",
    "    return a(n-1) + 5 # O(n-1)"
   ]
  },
  {
   "cell_type": "markdown",
   "metadata": {},
   "source": [
    "$O(n)$"
   ]
  },
  {
   "cell_type": "code",
   "execution_count": null,
   "metadata": {},
   "outputs": [],
   "source": [
    "#0.3 points\n",
    "i = 1 # O(1)\n",
    "while i < n: # O(N); N = np.floor(log2(n)) \n",
    "    something() #O(1)\n",
    "    i = i*2 # O(1)"
   ]
  },
  {
   "cell_type": "markdown",
   "metadata": {},
   "source": [
    "$O(1) +(O(1) + O(1)) \\cdot O(\\log_2{n}) = O(\\log_2{n})$"
   ]
  },
  {
   "cell_type": "code",
   "execution_count": null,
   "metadata": {},
   "outputs": [],
   "source": [
    "#0.4 points\n",
    "i = 1 # O(1)\n",
    "j = 1 # O(1)\n",
    "while j < n: \n",
    "    something() #O(1)\n",
    "    j = j + i # O(1)\n",
    "    i = i + 1 # O(1)"
   ]
  },
  {
   "cell_type": "markdown",
   "metadata": {},
   "source": [
    "Пусть k - количество выполнений цикла  \n",
    "$j_1 = j_0 + 1 \\\\\n",
    "j_2 = j_1 + 2 = j_0 + 1 + 2 \\\\\n",
    "j_3 = j_0 + 1 + 2 + 3 \\\\\n",
    "... \\\\\n",
    "j_k = j_0 + (1+...+k) \\\\\n",
    "j_0 = 1 \\\\\n",
    "(1+...+k) - арифметическая~прогрессия, d=1, a_1=1, N=k \\\\\n",
    "n \\leq j_k~~критерий~остановки \\\\\n",
    "n = j_k = 1 + (\\frac{2 \\cdot 1 + 1 \\cdot (k-1)}{2})\\cdot k \\\\\n",
    "k^2+k+2-2n=0 \\\\\n",
    "k_{1,2} = \\frac{-1 \\pm \\sqrt{1+8(n-1)}}{2} \\\\\n",
    "k = \\frac{-1 + \\sqrt{1+8(n-1)}}{2} \\\\\n",
    "k \\sim O(\\sqrt{n})$\n",
    "\n",
    "$O(1)+O(1)+(O(1)+O(1)+O(1)) \\cdot O(\\sqrt{n}) = O(\\sqrt{n})$"
   ]
  }
 ],
 "metadata": {
  "kernelspec": {
   "display_name": "Python 3",
   "language": "python",
   "name": "python3"
  },
  "language_info": {
   "codemirror_mode": {
    "name": "ipython",
    "version": 3
   },
   "file_extension": ".py",
   "mimetype": "text/x-python",
   "name": "python",
   "nbconvert_exporter": "python",
   "pygments_lexer": "ipython3",
   "version": "3.7.0"
  }
 },
 "nbformat": 4,
 "nbformat_minor": 2
}
